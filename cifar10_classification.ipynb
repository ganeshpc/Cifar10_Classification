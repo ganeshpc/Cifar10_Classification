{
  "nbformat": 4,
  "nbformat_minor": 0,
  "metadata": {
    "colab": {
      "name": "cifar10_classification.ipynb",
      "provenance": [],
      "collapsed_sections": [],
      "toc_visible": true
    },
    "kernelspec": {
      "name": "python3",
      "display_name": "Python 3"
    },
    "accelerator": "GPU"
  },
  "cells": [
    {
      "cell_type": "markdown",
      "metadata": {
        "id": "yVuSLoyTy_1h",
        "colab_type": "text"
      },
      "source": [
        "## Cifar10 image classification\n",
        "\n",
        "Loading data..."
      ]
    },
    {
      "cell_type": "code",
      "metadata": {
        "id": "GWFY2sGJzAYn",
        "colab_type": "code",
        "colab": {}
      },
      "source": [
        "from keras.datasets import cifar10\n",
        "\n",
        "import matplotlib.pyplot as plt"
      ],
      "execution_count": null,
      "outputs": []
    },
    {
      "cell_type": "code",
      "metadata": {
        "id": "b8oUzZrQAZWI",
        "colab_type": "code",
        "colab": {}
      },
      "source": [
        "(x_train, y_train), (x_test, y_test) = cifar10.load_data()\n"
      ],
      "execution_count": null,
      "outputs": []
    },
    {
      "cell_type": "markdown",
      "metadata": {
        "id": "5q41IZ8czOBa",
        "colab_type": "text"
      },
      "source": [
        "### Visualizing data"
      ]
    },
    {
      "cell_type": "code",
      "metadata": {
        "id": "y1o2cBt7Atu4",
        "colab_type": "code",
        "colab": {}
      },
      "source": [
        "n = 6\n",
        "\n",
        "plt.figure(figsize=(20, 10))\n",
        "\n",
        "for i in range(10):\n",
        "    plt.imshow(x_train[i])\n",
        "    plt.show()\n"
      ],
      "execution_count": null,
      "outputs": []
    },
    {
      "cell_type": "markdown",
      "metadata": {
        "id": "ot8Dj1m2zSCE",
        "colab_type": "text"
      },
      "source": [
        "### Required Imports"
      ]
    },
    {
      "cell_type": "code",
      "metadata": {
        "id": "uba5NBQxBUDe",
        "colab_type": "code",
        "colab": {}
      },
      "source": [
        "from keras.models import Sequential\n",
        "from keras.layers import Dense, Dropout, Flatten\n",
        "from keras.constraints import maxnorm\n",
        "from keras.optimizers import SGD\n",
        "from keras.layers.convolutional import Conv2D, MaxPooling2D\n",
        "from keras.utils import np_utils"
      ],
      "execution_count": null,
      "outputs": []
    },
    {
      "cell_type": "markdown",
      "metadata": {
        "id": "cY5nMDMOzaeE",
        "colab_type": "text"
      },
      "source": [
        "### Data preprocessing"
      ]
    },
    {
      "cell_type": "code",
      "metadata": {
        "id": "Svy9U2K-Bz9O",
        "colab_type": "code",
        "colab": {}
      },
      "source": [
        "x_train = x_train.astype('float32')\n",
        "x_test = x_test.astype('float32')\n",
        "\n",
        "x_train = x_train / 255\n",
        "x_test = x_test / 255"
      ],
      "execution_count": null,
      "outputs": []
    },
    {
      "cell_type": "code",
      "metadata": {
        "id": "1g5s-18pCKiO",
        "colab_type": "code",
        "colab": {}
      },
      "source": [
        "y_train = np_utils.to_categorical(y_train)\n",
        "y_test = np_utils.to_categorical(y_test)\n",
        "\n",
        "num_classes = y_train.shape[1]"
      ],
      "execution_count": null,
      "outputs": []
    },
    {
      "cell_type": "markdown",
      "metadata": {
        "id": "YA9ZQ6xSzd5r",
        "colab_type": "text"
      },
      "source": [
        "### Model Creation"
      ]
    },
    {
      "cell_type": "code",
      "metadata": {
        "id": "69W7rMNEC3_I",
        "colab_type": "code",
        "colab": {}
      },
      "source": [
        "model = Sequential()\n",
        "model.add(Conv2D(32, (3, 3), input_shape=(32, 32, 3), padding='same',\n",
        "          activation='relu', kernel_constraint=maxnorm(3)))\n",
        "model.add(Dropout(0.2))\n",
        "model.add(Conv2D(32, (3, 3), activation='relu', padding='same',\n",
        "                 kernel_constraint=maxnorm(3)))\n",
        "model.add(MaxPooling2D(pool_size=(2, 2)))\n",
        "model.add(Flatten())\n",
        "model.add(Dense(512, activation='relu', kernel_constraint=maxnorm(3)))\n",
        "model.add(Dropout(0.5))\n",
        "model.add(Dense(num_classes, activation='softmax'))"
      ],
      "execution_count": null,
      "outputs": []
    },
    {
      "cell_type": "code",
      "metadata": {
        "id": "eFVgasByEQrD",
        "colab_type": "code",
        "colab": {}
      },
      "source": [
        "sgd = SGD(lr=0.01, momentum=0.9, decay=(0.01/25), nesterov=False)\n",
        "model.compile(loss='categorical_crossentropy', optimizer=sgd,\n",
        "              metrics=['accuracy'])"
      ],
      "execution_count": null,
      "outputs": []
    },
    {
      "cell_type": "code",
      "metadata": {
        "id": "R-ykbLpGFAkx",
        "colab_type": "code",
        "colab": {}
      },
      "source": [
        "model.summary()"
      ],
      "execution_count": null,
      "outputs": []
    },
    {
      "cell_type": "markdown",
      "metadata": {
        "id": "JihoJWg9ziHx",
        "colab_type": "text"
      },
      "source": [
        "### Training the model"
      ]
    },
    {
      "cell_type": "code",
      "metadata": {
        "id": "Vm4PSuydFFM2",
        "colab_type": "code",
        "colab": {}
      },
      "source": [
        "model.fit(x_train, y_train, validation_data=(x_test, y_test), epochs=50, batch_size=32)\n",
        "\n",
        "model.save('/content/drive/My Drive/Colab Notebooks/Cifar10/cifar_model_50_epochs.h5')"
      ],
      "execution_count": null,
      "outputs": []
    },
    {
      "cell_type": "markdown",
      "metadata": {
        "id": "Ocg9NjSfzn_1",
        "colab_type": "text"
      },
      "source": [
        "### Testing model"
      ]
    },
    {
      "cell_type": "code",
      "metadata": {
        "id": "dPdVxSQeMQnl",
        "colab_type": "code",
        "colab": {}
      },
      "source": [
        "results={\n",
        "   0:'aeroplane',\n",
        "   1:'automobile',\n",
        "   2:'bird',\n",
        "   3:'cat',\n",
        "   4:'deer',\n",
        "   5:'dog',\n",
        "   6:'frog',\n",
        "   7:'horse',\n",
        "   8:'ship',\n",
        "   9:'truck'\n",
        "}\n",
        "from PIL import Image\n",
        "import numpy as np\n",
        "\n",
        "for i in range(9):\n",
        "    path = \"/content/img\" + str(i) + \".jpg\"\n",
        "    im=Image.open(path)\n",
        "    # the input image is required to be in the shape of dataset, i.e (32,32,3)\n",
        "    \n",
        "    im=im.resize((32,32))\n",
        "    plt.imshow(im)\n",
        "    plt.show()\n",
        "    im=np.expand_dims(im,axis=0)\n",
        "    im=np.array(im)\n",
        "    pred=model.predict_classes([im])[0]\n",
        "    print(pred,results[pred])"
      ],
      "execution_count": null,
      "outputs": []
    },
    {
      "cell_type": "code",
      "metadata": {
        "id": "gcY04kh5L8mT",
        "colab_type": "code",
        "colab": {}
      },
      "source": [
        ""
      ],
      "execution_count": null,
      "outputs": []
    }
  ]
}